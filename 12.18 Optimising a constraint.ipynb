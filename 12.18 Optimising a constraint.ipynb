{
 "cells": [
  {
   "cell_type": "markdown",
   "metadata": {},
   "source": [
    "# Optimising a constraint\n",
    "Williams, H. Paul. Model building in mathematical programming. John Wiley & Sons, 2013."
   ]
  },
  {
   "cell_type": "code",
   "execution_count": 1,
   "metadata": {},
   "outputs": [],
   "source": [
    "from typing import Dict\n",
    "\n",
    "import numpy as np\n",
    "import pandas as pd\n",
    "from pulp import LpProblem, LpMaximize, LpMinimize, LpVariable, lpSum"
   ]
  },
  {
   "cell_type": "markdown",
   "metadata": {},
   "source": [
    "## 問題設定\n",
    "整数計画問題の中で、次の制約があるとする。\n",
    "\n",
    "$$\n",
    "9x_1 + 13x_2 − 14x_3 + 17x_4 + 13x_5 − 19x_6 + 23x_7 +21x_8 \\leq 37.\n",
    "$$\n",
    "\n",
    "ここで、変数は全て二値変数とする。\n",
    "\n",
    "この制約の「最も単純な」バージョンを、以下の 2 つの基準で見つけたい。\n",
    "\n",
    "1. 元の制約と論理的に同等であるが、右側の絶対値が可能な限り小さい（元の係数と同様の符号のすべての係数を持つ）別の制約\n",
    "2. 元の制約と論理的に同等であるが、係数の絶対値の合計（右側の係数を除く）が最小である別の制約"
   ]
  },
  {
   "cell_type": "markdown",
   "metadata": {},
   "source": [
    "## モデル\n",
    "上記のように、0-1変数の制約を、線形計画法を用いて簡略化する方法が知られている[Bradley+ 1974]。\n",
    "以降では、この方法を用いてモデルを定式化する。\n",
    "\n",
    "まず、負の値が含まれると不便なので、式変形してマイナスをなくす。\n",
    "\n",
    "$$\n",
    "9y_1 + 13y_2 + 14y_3 + 17y_4 + 13y_5 + 19y_6 + 23y_7 +21y_8 \\leq 70,\n",
    "$$\n",
    "$$\n",
    "\\text{where}~~ y_1=x_1, ~~y_2 = x_2, ~~ y_3 = 1 - x_3, ~~y_4 = x_4, ~~y_5 = x_5, ~~y_6 = 1 - x_6, ~~y_7 = x_7, ~~ y_8 = x_8.\n",
    "$$\n",
    "上記の式と等価で、「もっとも単純な」制約を見つけることを目指す。\n",
    "\n",
    "まず、求めたい制約を以下のように記述する。\n",
    "$$\n",
    "\\sum_1^8 a_i y_i \\leq a_0\n",
    "$$\n",
    "この式の $a_i$ を求めるための線形計画問題を考える。\n",
    "\n",
    "$a_i$ を求めるには、この式の roofs と ceilings を見つける必要がある。それぞれの意味は以下。\n",
    "\n",
    "- roofs: 対応する係数の総和が右辺をぎりぎり超えるような、変数の最小の部分集合\n",
    "- ceilings: 対応する係数の総和が右辺を超えないような、変数の最大の部分集合"
   ]
  },
  {
   "cell_type": "code",
   "execution_count": 32,
   "metadata": {},
   "outputs": [],
   "source": [
    "idx = list(range(1, 9))\n",
    "y = pd.Series(LpVariable.dicts(\"y\", idx, cat=\"Binary\"))\n",
    "coef = pd.Series([9, 13, 14, 17, 13, 19, 23, 21], index=idx)"
   ]
  },
  {
   "cell_type": "markdown",
   "metadata": {},
   "source": [
    "まず、ceilings を見つける。（以下の方法では一つしか見つけられないので、全て見つける方法を考える必要がある。）"
   ]
  },
  {
   "cell_type": "code",
   "execution_count": 33,
   "metadata": {},
   "outputs": [
    {
     "data": {
      "text/plain": [
       "1"
      ]
     },
     "execution_count": 33,
     "metadata": {},
     "output_type": "execute_result"
    }
   ],
   "source": [
    "model_c = LpProblem(\"Distribution1\", LpMaximize)\n",
    "model_c.setObjective(y.sum())\n",
    "model_c.addConstraint(y.dot(coef) <= 70)\n",
    "model_c.solve()"
   ]
  },
  {
   "cell_type": "code",
   "execution_count": 34,
   "metadata": {},
   "outputs": [
    {
     "data": {
      "text/plain": [
       "1    y_1\n",
       "2    y_2\n",
       "3    y_3\n",
       "4    y_4\n",
       "5    y_5\n",
       "dtype: object"
      ]
     },
     "execution_count": 34,
     "metadata": {},
     "output_type": "execute_result"
    }
   ],
   "source": [
    "is_one = y.apply(lambda x: x.value()).astype(bool)\n",
    "y[is_one]"
   ]
  },
  {
   "cell_type": "markdown",
   "metadata": {},
   "source": [
    "続いて、roofs を見つける。（以下の方法では一つしか見つけられないので、全て見つける方法を考える必要がある。）"
   ]
  },
  {
   "cell_type": "code",
   "execution_count": 35,
   "metadata": {},
   "outputs": [
    {
     "data": {
      "text/plain": [
       "1"
      ]
     },
     "execution_count": 35,
     "metadata": {},
     "output_type": "execute_result"
    }
   ],
   "source": [
    "model_r = LpProblem(\"Distribution1\", LpMinimize)\n",
    "model_r.setObjective(y.sum())\n",
    "model_r.addConstraint(y.dot(coef) >= 71)\n",
    "model_r.solve()"
   ]
  },
  {
   "cell_type": "code",
   "execution_count": 36,
   "metadata": {},
   "outputs": [
    {
     "data": {
      "text/plain": [
       "2    y_2\n",
       "6    y_6\n",
       "7    y_7\n",
       "8    y_8\n",
       "dtype: object"
      ]
     },
     "execution_count": 36,
     "metadata": {},
     "output_type": "execute_result"
    }
   ],
   "source": [
    "is_one = y.apply(lambda x: x.value()).astype(bool)\n",
    "y[is_one]"
   ]
  },
  {
   "cell_type": "markdown",
   "metadata": {},
   "source": [
    "ceilings と roofs を見つけることができれば、それぞれから $a_i$ を求める線形計画問題の制約式を導出できる。<br>\n",
    "ここで求まった制約式を用いて、$a_0$ や $\\sum_{i=1}^8 a_i$ を最小化するような $a_i$ を求めればよい。"
   ]
  },
  {
   "cell_type": "code",
   "execution_count": null,
   "metadata": {},
   "outputs": [],
   "source": []
  },
  {
   "cell_type": "code",
   "execution_count": null,
   "metadata": {},
   "outputs": [],
   "source": []
  }
 ],
 "metadata": {
  "kernelspec": {
   "display_name": "Python 3",
   "language": "python",
   "name": "python3"
  },
  "language_info": {
   "codemirror_mode": {
    "name": "ipython",
    "version": 3
   },
   "file_extension": ".py",
   "mimetype": "text/x-python",
   "name": "python",
   "nbconvert_exporter": "python",
   "pygments_lexer": "ipython3",
   "version": "3.7.6"
  }
 },
 "nbformat": 4,
 "nbformat_minor": 4
}
