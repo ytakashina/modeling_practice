{
 "cells": [
  {
   "cell_type": "markdown",
   "metadata": {},
   "source": [
    "# Tariff rates\n",
    "Williams, H. Paul. Model building in mathematical programming. John Wiley & Sons, 2013."
   ]
  },
  {
   "cell_type": "code",
   "execution_count": 1,
   "metadata": {},
   "outputs": [],
   "source": [
    "from typing import Dict\n",
    "\n",
    "import numpy as np\n",
    "import pandas as pd\n",
    "from pulp import LpProblem, LpMaximize, LpMinimize, LpVariable, lpSum"
   ]
  },
  {
   "cell_type": "markdown",
   "metadata": {},
   "source": [
    "## 集合"
   ]
  },
  {
   "cell_type": "code",
   "execution_count": 2,
   "metadata": {},
   "outputs": [],
   "source": [
    "periods = np.arange(5)\n",
    "types = np.arange(3)"
   ]
  },
  {
   "cell_type": "code",
   "execution_count": 19,
   "metadata": {},
   "outputs": [],
   "source": [
    "demands = [15000, 30000, 25000, 40000, 27000]  # for each period\n",
    "n_machines = [12, 10, 5] # for each type\n",
    "n_hours = np.array([6, 3, 6, 3, 6])"
   ]
  },
  {
   "cell_type": "code",
   "execution_count": 4,
   "metadata": {},
   "outputs": [],
   "source": [
    "prod_lb = np.array([850, 1250, 1500])\n",
    "prod_ub = np.array([2000, 1750, 4000])\n",
    "cost_min = np.array([1000, 2600, 3000])\n",
    "cost_unit = np.array([2, 1.3, 3])\n",
    "cost_start = np.array([2000, 1000, 500])"
   ]
  },
  {
   "cell_type": "code",
   "execution_count": 26,
   "metadata": {},
   "outputs": [],
   "source": [
    "n_worked = pd.Series(LpVariable.dicts(\"n_worked\", types, cat='Integer'))"
   ]
  },
  {
   "cell_type": "code",
   "execution_count": 27,
   "metadata": {},
   "outputs": [],
   "source": [
    "n_working = pd.DataFrame({t: {p: LpVariable(f\"n_working_{t}_{p}\", lowBound=0, upBound=n_machines[t], cat=\"Integer\")\n",
    "                              for p in periods} for t in types})"
   ]
  },
  {
   "cell_type": "code",
   "execution_count": 28,
   "metadata": {},
   "outputs": [],
   "source": [
    "prod_additional = pd.DataFrame({t: {p: LpVariable(f\"prod_additional_{t}_{p}\", lowBound=prod_lb[t], upBound=prod_ub[t])\n",
    "                                    for p in periods} for t in types})"
   ]
  },
  {
   "cell_type": "code",
   "execution_count": 29,
   "metadata": {},
   "outputs": [],
   "source": [
    "capacity_rest = n_working * (prod_ub - prod_lb) - prod_additional"
   ]
  },
  {
   "cell_type": "code",
   "execution_count": 30,
   "metadata": {},
   "outputs": [],
   "source": [
    "cost = (n_working * cost_min * n_hours[:, None] + prod_additional * cost_unit + n_worked * cost_start).values.sum()"
   ]
  },
  {
   "cell_type": "code",
   "execution_count": 31,
   "metadata": {},
   "outputs": [],
   "source": [
    "model = LpProblem(name=\"TariffRates\", sense=LpMinimize)\n",
    "model += cost"
   ]
  },
  {
   "cell_type": "code",
   "execution_count": 32,
   "metadata": {},
   "outputs": [],
   "source": [
    "for p in periods:\n",
    "    for t in types:\n",
    "        model += n_worked[t] >= n_working.loc[p, t]\n",
    "    model += capacity_rest.sum(axis=1)[p] >= 0\n",
    "    model += (n_working * prod_lb + prod_additional).sum(axis=1)[p] >= demands[p]\n",
    "    model += (n_working * prod_ub).sum(axis=1)[p] >= 1.15 * demands[p]"
   ]
  },
  {
   "cell_type": "code",
   "execution_count": 33,
   "metadata": {},
   "outputs": [
    {
     "data": {
      "text/plain": [
       "-1"
      ]
     },
     "execution_count": 33,
     "metadata": {},
     "output_type": "execute_result"
    }
   ],
   "source": [
    "model.solve()"
   ]
  },
  {
   "cell_type": "code",
   "execution_count": 34,
   "metadata": {},
   "outputs": [
    {
     "data": {
      "text/plain": [
       "952709.25"
      ]
     },
     "execution_count": 34,
     "metadata": {},
     "output_type": "execute_result"
    }
   ],
   "source": [
    "cost.value()"
   ]
  },
  {
   "cell_type": "code",
   "execution_count": null,
   "metadata": {},
   "outputs": [],
   "source": []
  }
 ],
 "metadata": {
  "kernelspec": {
   "display_name": "Python 3",
   "language": "python",
   "name": "python3"
  },
  "language_info": {
   "codemirror_mode": {
    "name": "ipython",
    "version": 3
   },
   "file_extension": ".py",
   "mimetype": "text/x-python",
   "name": "python",
   "nbconvert_exporter": "python",
   "pygments_lexer": "ipython3",
   "version": "3.7.6"
  }
 },
 "nbformat": 4,
 "nbformat_minor": 4
}
