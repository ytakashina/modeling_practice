{
 "cells": [
  {
   "cell_type": "markdown",
   "metadata": {},
   "source": [
    "# 12.21 Agricultural pricing\n",
    "Williams, H. Paul. Model building in mathematical programming. John Wiley & Sons, 2013."
   ]
  },
  {
   "cell_type": "code",
   "execution_count": null,
   "metadata": {},
   "outputs": [],
   "source": [
    "import numpy as np\n",
    "import pandas as pd\n",
    "from pulp import LpProblem, LpMaximize, LpVariable, lpSum"
   ]
  },
  {
   "attachments": {},
   "cell_type": "markdown",
   "metadata": {},
   "source": [
    "## 問題設定\n",
    "国の政府は、乳製品、牛乳、バター、チーズにどの価格を請求するかを決定したいと考えています。これらすべての製品は、国の生乳生産から直接的または間接的に生まれています。この生乳は、脂肪と乾物という2つの成分に分けられます。農場での輸出または消費用の製品の製造に使用される脂肪と乾物の量を差し引いた後、年間合計で60万トンの脂肪と75万トンの乾物が利用可能です。これはすべて国内消費用の牛乳、バター、2種類のチーズの生産に利用できます。\n",
    "\n",
    "消費者の需要を各製品の価格に関連付ける需要の価格弾力性は、過去の統計に基づいて計算されています。 製品の価格弾力性Eは、\n",
    "\n",
    "$$\n",
    "E_{AB} = \\frac{\\text{Percentage decrease in demand}}{\\text{Percentage increase in price}}.\n",
    "$$\n",
    "\n",
    "2種類のチーズについては、相対価格に応じて、消費者の需要にある程度の代替があります。 これは、価格に対する需要の交差弾性によって測定されます。 製品Aから製品Bへの交差弾性EABは、\n",
    "\n",
    "$$\n",
    "E_{AB} = \\frac{\\text{Percentage increase in demand for A}}{\\text{Percentage increase in price of B}}.\n",
    "$$\n",
    "\n",
    "目的関数：\n",
    "目的は、どの価格とその結果の需要が総収入を最大化するかを決定することです。\n",
    "\n",
    "制約条件：\n",
    "しかし、特定の物価指数の上昇を認めることは政治的に受け入れられません。 この物価指数の計算方法の結果として、この制限は、新しい価格が昨年の消費の総コストが増加しないようなものでなければならないことを単に要求しています。 特に重要な追加要件は、この政治的制限の経済的コストを定量化することです。"
   ]
  },
  {
   "cell_type": "markdown",
   "metadata": {},
   "source": [
    "## 集合の読み込み"
   ]
  },
  {
   "cell_type": "code",
   "execution_count": null,
   "metadata": {},
   "outputs": [],
   "source": [
    "INGREDIENTS = [\"Fat\", \"Dry matter\", \"Water\"]\n",
    "PRODUCTS = [\"Milk\", \"Butter\", \"Cheese 1\", \"Cheese 2\"]"
   ]
  },
  {
   "cell_type": "markdown",
   "metadata": {},
   "source": [
    "## パラメータの読み込み"
   ]
  },
  {
   "cell_type": "code",
   "execution_count": null,
   "metadata": {},
   "outputs": [],
   "source": [
    "availabilities = pd.Series([600000, 750000, 1e+10], index=INGREDIENTS)"
   ]
  },
  {
   "cell_type": "code",
   "execution_count": null,
   "metadata": {
    "scrolled": true
   },
   "outputs": [],
   "source": [
    "composition = pd.DataFrame([\n",
    "    [4, 9, 87],\n",
    "    [80, 2, 18],\n",
    "    [35, 30, 35],\n",
    "    [25, 40, 35],\n",
    "], columns=INGREDIENTS, index=PRODUCTS)\n",
    "composition"
   ]
  },
  {
   "cell_type": "code",
   "execution_count": null,
   "metadata": {},
   "outputs": [],
   "source": [
    "demand_prev = pd.Series([4820, 320, 210, 70], index=PRODUCTS)\n",
    "price_prev = pd.Series([297, 720, 1050, 815], index=PRODUCTS)"
   ]
  },
  {
   "cell_type": "code",
   "execution_count": null,
   "metadata": {},
   "outputs": [],
   "source": [
    "EL = pd.Series([0.4, 2.7, 1.1, 0.4], index=PRODUCTS)\n",
    "CEL = pd.DataFrame([\n",
    "    [0, 0, 0, 0],\n",
    "    [0, 0, 0, 0],\n",
    "    [0, 0, 0, 0.1],\n",
    "    [0, 0, 0.4, 0],\n",
    "], index=PRODUCTS, columns=PRODUCTS)\n",
    "CEL"
   ]
  },
  {
   "cell_type": "markdown",
   "metadata": {},
   "source": [
    "### 変数"
   ]
  },
  {
   "cell_type": "code",
   "execution_count": null,
   "metadata": {},
   "outputs": [],
   "source": [
    "price = pd.Series(LpVariable.dicts(\"price\", PRODUCTS, lowBound=0))"
   ]
  },
  {
   "cell_type": "code",
   "execution_count": null,
   "metadata": {},
   "outputs": [],
   "source": [
    "demand = demand_prev.copy()\n",
    "demand -= demand_prev * EL * (price - price_prev) / price_prev * 100\n",
    "demand += demand_prev * sum(CEL.loc[:, p] * (price[p] - price_prev[p]) / price_prev[p] * 100\n",
    "                            for p in PRODUCTS)"
   ]
  },
  {
   "cell_type": "markdown",
   "metadata": {},
   "source": [
    "### 目的関数"
   ]
  },
  {
   "cell_type": "code",
   "execution_count": null,
   "metadata": {},
   "outputs": [],
   "source": [
    "# 二次計画\n",
    "total_sales = (price * demand).sum()\n",
    "total_sales"
   ]
  },
  {
   "cell_type": "code",
   "execution_count": null,
   "metadata": {
    "scrolled": true
   },
   "outputs": [],
   "source": [
    "model = LpProblem(\"Agricultural_pricing\", LpMaximize)\n",
    "model.setObjective(total_sales)"
   ]
  },
  {
   "cell_type": "markdown",
   "metadata": {},
   "source": [
    "### 制約条件"
   ]
  },
  {
   "cell_type": "code",
   "execution_count": null,
   "metadata": {},
   "outputs": [],
   "source": [
    "# 素材の利用可能量\n",
    "consumption_ingredient = demand.dot(composition)\n",
    "for i in INGREDIENTS:\n",
    "    model.addConstraint(consumption_ingredient[i] <= availabilities[i])"
   ]
  },
  {
   "cell_type": "code",
   "execution_count": null,
   "metadata": {},
   "outputs": [],
   "source": [
    "# 昨年の消費に対する総コスト\n",
    "total_sales_increase = ((price - price_prev) * demand_prev).sum()\n",
    "model.addConstraint(total_sales_increase <= 0)"
   ]
  },
  {
   "cell_type": "code",
   "execution_count": null,
   "metadata": {},
   "outputs": [],
   "source": [
    "model.solve()"
   ]
  },
  {
   "cell_type": "code",
   "execution_count": null,
   "metadata": {},
   "outputs": [],
   "source": [
    "model"
   ]
  },
  {
   "cell_type": "code",
   "execution_count": null,
   "metadata": {},
   "outputs": [],
   "source": []
  }
 ],
 "metadata": {
  "kernelspec": {
   "display_name": "Python 3",
   "language": "python",
   "name": "python3"
  },
  "language_info": {
   "codemirror_mode": {
    "name": "ipython",
    "version": 3
   },
   "file_extension": ".py",
   "mimetype": "text/x-python",
   "name": "python",
   "nbconvert_exporter": "python",
   "pygments_lexer": "ipython3",
   "version": "3.7.6"
  }
 },
 "nbformat": 4,
 "nbformat_minor": 4
}
