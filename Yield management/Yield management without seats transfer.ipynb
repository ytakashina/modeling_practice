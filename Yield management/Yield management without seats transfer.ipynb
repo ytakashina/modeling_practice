{
 "cells": [
  {
   "cell_type": "markdown",
   "metadata": {},
   "source": [
    "# 12.24 Yield management 1\n",
    "Williams, H. Paul. Model building in mathematical programming. John Wiley & Sons, 2013."
   ]
  },
  {
   "cell_type": "markdown",
   "metadata": {},
   "source": [
    "3 つの期間に関して最適化を行う。各期間では、最大 6 機まで航空機を使用でき、1 フライトごとに 50000 ポンドかかる。\n",
    "\n",
    "各航空機には、デフォルトで以下の座席がある。\n",
    "\n",
    "- 37 first class\n",
    "- 38 business class\n",
    "- 47 economy class\n",
    "\n",
    "最大 10% までの座席は隣接クラスに変更可能。\n",
    "\n",
    "3 つの価格レベルを用意するので、各機関においてどのレベルを使用するのか決定する。"
   ]
  },
  {
   "cell_type": "markdown",
   "metadata": {},
   "source": [
    "## モデリング\n",
    "### 問題設定について分からなかった点\n",
    "- 価格レベルは同じ期間であれば全てのクラスで共通？\n",
    "- 需要はすべて満たさなければいけない？（meet commitments の意味）\n",
    "\n",
    "### モデル化の仕方で分からなかった点\n",
    "- 隣接クラスへの変更をどう扱うか？\n",
    "\n",
    "とりあえず次の条件で最適化してみる。\n",
    "- 価格レベルは全クラス共通\n",
    "- 需要はすべて満たす\n",
    "- 隣接クラスへの変更は行わない\n",
    "- 逐次最適化も行わない"
   ]
  },
  {
   "cell_type": "code",
   "execution_count": 1,
   "metadata": {},
   "outputs": [],
   "source": [
    "import numpy as np\n",
    "import pandas as pd\n",
    "from pulp import LpProblem, LpMaximize, LpVariable, lpSum"
   ]
  },
  {
   "cell_type": "markdown",
   "metadata": {},
   "source": [
    "## 集合の読み込み"
   ]
  },
  {
   "cell_type": "code",
   "execution_count": 2,
   "metadata": {},
   "outputs": [],
   "source": [
    "TIME_IDX = [1, 2, 3]\n",
    "CLASSES = [\"First\", \"Business\", \"Economy\"]\n",
    "SCENARIOS = [1, 2, 3]\n",
    "OPTIONS = [1, 2, 3]"
   ]
  },
  {
   "cell_type": "markdown",
   "metadata": {},
   "source": [
    "## パラメータの読み込み"
   ]
  },
  {
   "cell_type": "code",
   "execution_count": 3,
   "metadata": {},
   "outputs": [],
   "source": [
    "n_planes = 6\n",
    "flight_uc = 50000"
   ]
  },
  {
   "cell_type": "code",
   "execution_count": 4,
   "metadata": {},
   "outputs": [],
   "source": [
    "n_seats_default = {\n",
    "    \"First\": 37,\n",
    "    \"Business\": 38,\n",
    "    \"Economy\": 47,\n",
    "}"
   ]
  },
  {
   "cell_type": "code",
   "execution_count": 5,
   "metadata": {},
   "outputs": [],
   "source": [
    "probability = {\n",
    "    1: 0.1,\n",
    "    2: 0.7,\n",
    "    3: 0.2\n",
    "}"
   ]
  },
  {
   "cell_type": "code",
   "execution_count": 6,
   "metadata": {},
   "outputs": [
    {
     "data": {
      "text/html": [
       "<div>\n",
       "<style scoped>\n",
       "    .dataframe tbody tr th:only-of-type {\n",
       "        vertical-align: middle;\n",
       "    }\n",
       "\n",
       "    .dataframe tbody tr th {\n",
       "        vertical-align: top;\n",
       "    }\n",
       "\n",
       "    .dataframe thead th {\n",
       "        text-align: right;\n",
       "    }\n",
       "</style>\n",
       "<table border=\"1\" class=\"dataframe\">\n",
       "  <thead>\n",
       "    <tr style=\"text-align: right;\">\n",
       "      <th></th>\n",
       "      <th></th>\n",
       "      <th>1</th>\n",
       "      <th>2</th>\n",
       "      <th>3</th>\n",
       "    </tr>\n",
       "    <tr>\n",
       "      <th>Option</th>\n",
       "      <th>Class</th>\n",
       "      <th></th>\n",
       "      <th></th>\n",
       "      <th></th>\n",
       "    </tr>\n",
       "  </thead>\n",
       "  <tbody>\n",
       "    <tr>\n",
       "      <th rowspan=\"3\" valign=\"top\">1</th>\n",
       "      <th>First</th>\n",
       "      <td>1200</td>\n",
       "      <td>1400</td>\n",
       "      <td>1500</td>\n",
       "    </tr>\n",
       "    <tr>\n",
       "      <th>Business</th>\n",
       "      <td>900</td>\n",
       "      <td>1100</td>\n",
       "      <td>820</td>\n",
       "    </tr>\n",
       "    <tr>\n",
       "      <th>Economy</th>\n",
       "      <td>500</td>\n",
       "      <td>700</td>\n",
       "      <td>480</td>\n",
       "    </tr>\n",
       "    <tr>\n",
       "      <th rowspan=\"3\" valign=\"top\">2</th>\n",
       "      <th>First</th>\n",
       "      <td>1000</td>\n",
       "      <td>1300</td>\n",
       "      <td>900</td>\n",
       "    </tr>\n",
       "    <tr>\n",
       "      <th>Business</th>\n",
       "      <td>800</td>\n",
       "      <td>900</td>\n",
       "      <td>800</td>\n",
       "    </tr>\n",
       "    <tr>\n",
       "      <th>Economy</th>\n",
       "      <td>300</td>\n",
       "      <td>400</td>\n",
       "      <td>470</td>\n",
       "    </tr>\n",
       "    <tr>\n",
       "      <th rowspan=\"3\" valign=\"top\">3</th>\n",
       "      <th>First</th>\n",
       "      <td>950</td>\n",
       "      <td>1150</td>\n",
       "      <td>850</td>\n",
       "    </tr>\n",
       "    <tr>\n",
       "      <th>Business</th>\n",
       "      <td>600</td>\n",
       "      <td>750</td>\n",
       "      <td>500</td>\n",
       "    </tr>\n",
       "    <tr>\n",
       "      <th>Economy</th>\n",
       "      <td>200</td>\n",
       "      <td>350</td>\n",
       "      <td>450</td>\n",
       "    </tr>\n",
       "  </tbody>\n",
       "</table>\n",
       "</div>"
      ],
      "text/plain": [
       "                    1     2     3\n",
       "Option Class                     \n",
       "1      First     1200  1400  1500\n",
       "       Business   900  1100   820\n",
       "       Economy    500   700   480\n",
       "2      First     1000  1300   900\n",
       "       Business   800   900   800\n",
       "       Economy    300   400   470\n",
       "3      First      950  1150   850\n",
       "       Business   600   750   500\n",
       "       Economy    200   350   450"
      ]
     },
     "execution_count": 6,
     "metadata": {},
     "output_type": "execute_result"
    }
   ],
   "source": [
    "prices = pd.DataFrame.from_dict({\n",
    "    (1, 'First'): [1200, 1400, 1500],\n",
    "    (1, 'Business'): [900, 1100, 820],\n",
    "    (1, 'Economy'): [500, 700, 480],\n",
    "    (2, 'First'): [1000, 1300, 900],\n",
    "    (2, 'Business'): [800, 900, 800],\n",
    "    (2, 'Economy'): [300, 400, 470],\n",
    "    (3, 'First'): [950, 1150, 850],\n",
    "    (3, 'Business'): [600, 750, 500],\n",
    "    (3, 'Economy'): [200, 350, 450],\n",
    "}).T\n",
    "prices.index.names = [\"Option\", \"Class\"]\n",
    "prices.columns = [1, 2, 3]\n",
    "prices"
   ]
  },
  {
   "cell_type": "code",
   "execution_count": 7,
   "metadata": {},
   "outputs": [
    {
     "data": {
      "text/html": [
       "<div>\n",
       "<style scoped>\n",
       "    .dataframe tbody tr th:only-of-type {\n",
       "        vertical-align: middle;\n",
       "    }\n",
       "\n",
       "    .dataframe tbody tr th {\n",
       "        vertical-align: top;\n",
       "    }\n",
       "\n",
       "    .dataframe thead th {\n",
       "        text-align: right;\n",
       "    }\n",
       "</style>\n",
       "<table border=\"1\" class=\"dataframe\">\n",
       "  <thead>\n",
       "    <tr style=\"text-align: right;\">\n",
       "      <th></th>\n",
       "      <th></th>\n",
       "      <th></th>\n",
       "      <th>1</th>\n",
       "      <th>2</th>\n",
       "      <th>3</th>\n",
       "    </tr>\n",
       "    <tr>\n",
       "      <th>Scenario</th>\n",
       "      <th>Option</th>\n",
       "      <th>Class</th>\n",
       "      <th></th>\n",
       "      <th></th>\n",
       "      <th></th>\n",
       "    </tr>\n",
       "  </thead>\n",
       "  <tbody>\n",
       "    <tr>\n",
       "      <th rowspan=\"9\" valign=\"top\">1</th>\n",
       "      <th rowspan=\"3\" valign=\"top\">1</th>\n",
       "      <th>First</th>\n",
       "      <td>10</td>\n",
       "      <td>20</td>\n",
       "      <td>30</td>\n",
       "    </tr>\n",
       "    <tr>\n",
       "      <th>Business</th>\n",
       "      <td>20</td>\n",
       "      <td>42</td>\n",
       "      <td>40</td>\n",
       "    </tr>\n",
       "    <tr>\n",
       "      <th>Economy</th>\n",
       "      <td>45</td>\n",
       "      <td>50</td>\n",
       "      <td>50</td>\n",
       "    </tr>\n",
       "    <tr>\n",
       "      <th rowspan=\"3\" valign=\"top\">2</th>\n",
       "      <th>First</th>\n",
       "      <td>15</td>\n",
       "      <td>25</td>\n",
       "      <td>35</td>\n",
       "    </tr>\n",
       "    <tr>\n",
       "      <th>Business</th>\n",
       "      <td>25</td>\n",
       "      <td>45</td>\n",
       "      <td>50</td>\n",
       "    </tr>\n",
       "    <tr>\n",
       "      <th>Economy</th>\n",
       "      <td>55</td>\n",
       "      <td>52</td>\n",
       "      <td>60</td>\n",
       "    </tr>\n",
       "    <tr>\n",
       "      <th rowspan=\"3\" valign=\"top\">3</th>\n",
       "      <th>First</th>\n",
       "      <td>20</td>\n",
       "      <td>35</td>\n",
       "      <td>40</td>\n",
       "    </tr>\n",
       "    <tr>\n",
       "      <th>Business</th>\n",
       "      <td>35</td>\n",
       "      <td>46</td>\n",
       "      <td>55</td>\n",
       "    </tr>\n",
       "    <tr>\n",
       "      <th>Economy</th>\n",
       "      <td>60</td>\n",
       "      <td>60</td>\n",
       "      <td>80</td>\n",
       "    </tr>\n",
       "    <tr>\n",
       "      <th rowspan=\"9\" valign=\"top\">2</th>\n",
       "      <th rowspan=\"3\" valign=\"top\">1</th>\n",
       "      <th>First</th>\n",
       "      <td>20</td>\n",
       "      <td>10</td>\n",
       "      <td>30</td>\n",
       "    </tr>\n",
       "    <tr>\n",
       "      <th>Business</th>\n",
       "      <td>40</td>\n",
       "      <td>50</td>\n",
       "      <td>10</td>\n",
       "    </tr>\n",
       "    <tr>\n",
       "      <th>Economy</th>\n",
       "      <td>50</td>\n",
       "      <td>60</td>\n",
       "      <td>50</td>\n",
       "    </tr>\n",
       "    <tr>\n",
       "      <th rowspan=\"3\" valign=\"top\">2</th>\n",
       "      <th>First</th>\n",
       "      <td>25</td>\n",
       "      <td>40</td>\n",
       "      <td>40</td>\n",
       "    </tr>\n",
       "    <tr>\n",
       "      <th>Business</th>\n",
       "      <td>42</td>\n",
       "      <td>60</td>\n",
       "      <td>40</td>\n",
       "    </tr>\n",
       "    <tr>\n",
       "      <th>Economy</th>\n",
       "      <td>52</td>\n",
       "      <td>65</td>\n",
       "      <td>60</td>\n",
       "    </tr>\n",
       "    <tr>\n",
       "      <th rowspan=\"3\" valign=\"top\">3</th>\n",
       "      <th>First</th>\n",
       "      <td>35</td>\n",
       "      <td>50</td>\n",
       "      <td>60</td>\n",
       "    </tr>\n",
       "    <tr>\n",
       "      <th>Business</th>\n",
       "      <td>45</td>\n",
       "      <td>80</td>\n",
       "      <td>45</td>\n",
       "    </tr>\n",
       "    <tr>\n",
       "      <th>Economy</th>\n",
       "      <td>63</td>\n",
       "      <td>90</td>\n",
       "      <td>70</td>\n",
       "    </tr>\n",
       "    <tr>\n",
       "      <th rowspan=\"9\" valign=\"top\">3</th>\n",
       "      <th rowspan=\"3\" valign=\"top\">1</th>\n",
       "      <th>First</th>\n",
       "      <td>45</td>\n",
       "      <td>50</td>\n",
       "      <td>50</td>\n",
       "    </tr>\n",
       "    <tr>\n",
       "      <th>Business</th>\n",
       "      <td>45</td>\n",
       "      <td>20</td>\n",
       "      <td>40</td>\n",
       "    </tr>\n",
       "    <tr>\n",
       "      <th>Economy</th>\n",
       "      <td>55</td>\n",
       "      <td>10</td>\n",
       "      <td>60</td>\n",
       "    </tr>\n",
       "    <tr>\n",
       "      <th rowspan=\"3\" valign=\"top\">2</th>\n",
       "      <th>First</th>\n",
       "      <td>50</td>\n",
       "      <td>55</td>\n",
       "      <td>70</td>\n",
       "    </tr>\n",
       "    <tr>\n",
       "      <th>Business</th>\n",
       "      <td>46</td>\n",
       "      <td>30</td>\n",
       "      <td>45</td>\n",
       "    </tr>\n",
       "    <tr>\n",
       "      <th>Economy</th>\n",
       "      <td>56</td>\n",
       "      <td>40</td>\n",
       "      <td>65</td>\n",
       "    </tr>\n",
       "    <tr>\n",
       "      <th rowspan=\"3\" valign=\"top\">3</th>\n",
       "      <th>First</th>\n",
       "      <td>60</td>\n",
       "      <td>80</td>\n",
       "      <td>80</td>\n",
       "    </tr>\n",
       "    <tr>\n",
       "      <th>Business</th>\n",
       "      <td>47</td>\n",
       "      <td>50</td>\n",
       "      <td>60</td>\n",
       "    </tr>\n",
       "    <tr>\n",
       "      <th>Economy</th>\n",
       "      <td>64</td>\n",
       "      <td>60</td>\n",
       "      <td>70</td>\n",
       "    </tr>\n",
       "  </tbody>\n",
       "</table>\n",
       "</div>"
      ],
      "text/plain": [
       "                           1   2   3\n",
       "Scenario Option Class               \n",
       "1        1      First     10  20  30\n",
       "                Business  20  42  40\n",
       "                Economy   45  50  50\n",
       "         2      First     15  25  35\n",
       "                Business  25  45  50\n",
       "                Economy   55  52  60\n",
       "         3      First     20  35  40\n",
       "                Business  35  46  55\n",
       "                Economy   60  60  80\n",
       "2        1      First     20  10  30\n",
       "                Business  40  50  10\n",
       "                Economy   50  60  50\n",
       "         2      First     25  40  40\n",
       "                Business  42  60  40\n",
       "                Economy   52  65  60\n",
       "         3      First     35  50  60\n",
       "                Business  45  80  45\n",
       "                Economy   63  90  70\n",
       "3        1      First     45  50  50\n",
       "                Business  45  20  40\n",
       "                Economy   55  10  60\n",
       "         2      First     50  55  70\n",
       "                Business  46  30  45\n",
       "                Economy   56  40  65\n",
       "         3      First     60  80  80\n",
       "                Business  47  50  60\n",
       "                Economy   64  60  70"
      ]
     },
     "execution_count": 7,
     "metadata": {},
     "output_type": "execute_result"
    }
   ],
   "source": [
    "demands = pd.DataFrame.from_dict({\n",
    "    (1, 1, 'First'): [10, 20, 30],\n",
    "    (1, 1, 'Business'): [20, 42, 40],\n",
    "    (1, 1, 'Economy'): [45, 50, 50],\n",
    "    (1, 2, 'First'): [15, 25, 35],\n",
    "    (1, 2, 'Business'): [25, 45, 50],\n",
    "    (1, 2, 'Economy'): [55, 52, 60],\n",
    "    (1, 3, 'First'): [20, 35, 40],\n",
    "    (1, 3, 'Business'): [35, 46, 55],\n",
    "    (1, 3, 'Economy'): [60, 60, 80],\n",
    "\n",
    "    (2, 1, 'First'): [20, 10, 30],\n",
    "    (2, 1, 'Business'): [40, 50, 10],\n",
    "    (2, 1, 'Economy'): [50, 60, 50],\n",
    "    (2, 2, 'First'): [25, 40, 40],\n",
    "    (2, 2, 'Business'): [42, 60, 40],\n",
    "    (2, 2, 'Economy'): [52, 65, 60],\n",
    "    (2, 3, 'First'): [35, 50, 60],\n",
    "    (2, 3, 'Business'): [45, 80, 45],\n",
    "    (2, 3, 'Economy'): [63, 90, 70],\n",
    "\n",
    "    (3, 1, 'First'): [45, 50, 50],\n",
    "    (3, 1, 'Business'): [45, 20, 40],\n",
    "    (3, 1, 'Economy'): [55, 10, 60],\n",
    "    (3, 2, 'First'): [50, 55, 70],\n",
    "    (3, 2, 'Business'): [46, 30, 45],\n",
    "    (3, 2, 'Economy'): [56, 40, 65],\n",
    "    (3, 3, 'First'): [60, 80, 80],\n",
    "    (3, 3, 'Business'): [47, 50, 60],\n",
    "    (3, 3, 'Economy'): [64, 60, 70],\n",
    "}).T\n",
    "demands.index.names = [\"Scenario\", \"Option\", \"Class\"]\n",
    "demands.columns = [1, 2, 3]\n",
    "demands"
   ]
  },
  {
   "cell_type": "markdown",
   "metadata": {},
   "source": [
    "### 変数"
   ]
  },
  {
   "cell_type": "code",
   "execution_count": 8,
   "metadata": {},
   "outputs": [],
   "source": [
    "is_selected = LpVariable.dicts(\"is_selected\", (TIME_IDX, OPTIONS), lowBound=0, upBound=1, cat=\"Integer\")\n",
    "n_flights = LpVariable.dicts(\"n_flights\", (TIME_IDX), lowBound=0, upBound=n_planes, cat=\"Integer\")"
   ]
  },
  {
   "cell_type": "markdown",
   "metadata": {},
   "source": [
    "### 目的関数"
   ]
  },
  {
   "cell_type": "code",
   "execution_count": 9,
   "metadata": {},
   "outputs": [
    {
     "data": {
      "text/plain": [
       "89150.0*is_selected_1_1 + 77810.0*is_selected_1_2 + 75795.0*is_selected_1_3 + 108420.0*is_selected_2_1 + 124680.0*is_selected_2_2 + 143975.0*is_selected_2_3 + 91540.0*is_selected_3_1 + 103220.0*is_selected_3_2 + 109150.0*is_selected_3_3 + -50000*n_flights_1 + -50000*n_flights_2 + -50000*n_flights_3 + 0.0"
      ]
     },
     "execution_count": 9,
     "metadata": {},
     "output_type": "execute_result"
    }
   ],
   "source": [
    "flight_cost = flight_uc * lpSum(n_flights)\n",
    "total_sales = lpSum(demands.loc[(s, o, c), t] * prices.loc[(o, c), t] * is_selected[t][o] * probability[s]\n",
    "                    for c in CLASSES for t in TIME_IDX for o in OPTIONS for s in SCENARIOS)\n",
    "total_profit = total_sales - flight_cost\n",
    "total_profit"
   ]
  },
  {
   "cell_type": "code",
   "execution_count": 10,
   "metadata": {},
   "outputs": [],
   "source": [
    "model = LpProblem(\"Yield_management\", LpMaximize)\n",
    "model.setObjective(total_profit)"
   ]
  },
  {
   "cell_type": "markdown",
   "metadata": {},
   "source": [
    "### 制約条件"
   ]
  },
  {
   "cell_type": "code",
   "execution_count": 11,
   "metadata": {},
   "outputs": [],
   "source": [
    "# Optioon のうちどれか一つを選ぶ\n",
    "for t in TIME_IDX:\n",
    "    model += lpSum(is_selected[t]) == 1"
   ]
  },
  {
   "cell_type": "code",
   "execution_count": 12,
   "metadata": {},
   "outputs": [],
   "source": [
    "# フライト数に応じた席数が需要を満たす\n",
    "for s in SCENARIOS:\n",
    "    for t in TIME_IDX:\n",
    "        for c in CLASSES:\n",
    "            for o in OPTIONS:\n",
    "                model += demands.loc[(s, o, c), t] * is_selected[t][o] <= n_flights[t] * n_seats_default[c]"
   ]
  },
  {
   "cell_type": "code",
   "execution_count": 13,
   "metadata": {},
   "outputs": [
    {
     "data": {
      "text/plain": [
       "1"
      ]
     },
     "execution_count": 13,
     "metadata": {},
     "output_type": "execute_result"
    }
   ],
   "source": [
    "model.solve()"
   ]
  },
  {
   "cell_type": "code",
   "execution_count": 14,
   "metadata": {},
   "outputs": [
    {
     "data": {
      "text/plain": [
       "1    2.0\n",
       "2    2.0\n",
       "3    2.0\n",
       "dtype: float64"
      ]
     },
     "execution_count": 14,
     "metadata": {},
     "output_type": "execute_result"
    }
   ],
   "source": [
    "# フライト数\n",
    "pd.Series({t: n_flights[t].value() for t in TIME_IDX})"
   ]
  },
  {
   "cell_type": "code",
   "execution_count": 15,
   "metadata": {},
   "outputs": [
    {
     "data": {
      "text/html": [
       "<div>\n",
       "<style scoped>\n",
       "    .dataframe tbody tr th:only-of-type {\n",
       "        vertical-align: middle;\n",
       "    }\n",
       "\n",
       "    .dataframe tbody tr th {\n",
       "        vertical-align: top;\n",
       "    }\n",
       "\n",
       "    .dataframe thead th {\n",
       "        text-align: right;\n",
       "    }\n",
       "</style>\n",
       "<table border=\"1\" class=\"dataframe\">\n",
       "  <thead>\n",
       "    <tr style=\"text-align: right;\">\n",
       "      <th></th>\n",
       "      <th>1</th>\n",
       "      <th>2</th>\n",
       "      <th>3</th>\n",
       "    </tr>\n",
       "  </thead>\n",
       "  <tbody>\n",
       "    <tr>\n",
       "      <th>1</th>\n",
       "      <td>0.0</td>\n",
       "      <td>1.0</td>\n",
       "      <td>0.0</td>\n",
       "    </tr>\n",
       "    <tr>\n",
       "      <th>2</th>\n",
       "      <td>0.0</td>\n",
       "      <td>1.0</td>\n",
       "      <td>0.0</td>\n",
       "    </tr>\n",
       "    <tr>\n",
       "      <th>3</th>\n",
       "      <td>0.0</td>\n",
       "      <td>1.0</td>\n",
       "      <td>0.0</td>\n",
       "    </tr>\n",
       "  </tbody>\n",
       "</table>\n",
       "</div>"
      ],
      "text/plain": [
       "     1    2    3\n",
       "1  0.0  1.0  0.0\n",
       "2  0.0  1.0  0.0\n",
       "3  0.0  1.0  0.0"
      ]
     },
     "execution_count": 15,
     "metadata": {},
     "output_type": "execute_result"
    }
   ],
   "source": [
    "# 価格オプション\n",
    "# 行：期間\n",
    "# 列：オプション\n",
    "pd.DataFrame({o: {t: is_selected[t][o].value() for t in TIME_IDX} for o in OPTIONS})"
   ]
  },
  {
   "cell_type": "code",
   "execution_count": null,
   "metadata": {},
   "outputs": [],
   "source": []
  }
 ],
 "metadata": {
  "kernelspec": {
   "display_name": "Python 3",
   "language": "python",
   "name": "python3"
  },
  "language_info": {
   "codemirror_mode": {
    "name": "ipython",
    "version": 3
   },
   "file_extension": ".py",
   "mimetype": "text/x-python",
   "name": "python",
   "nbconvert_exporter": "python",
   "pygments_lexer": "ipython3",
   "version": "3.7.6"
  }
 },
 "nbformat": 4,
 "nbformat_minor": 4
}
