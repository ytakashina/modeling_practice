{
 "cells": [
  {
   "cell_type": "markdown",
   "metadata": {},
   "source": [
    "# 12.1 Food manufacture 1\n",
    "Williams, H. Paul. Model building in mathematical programming. John Wiley & Sons, 2013."
   ]
  },
  {
   "cell_type": "code",
   "execution_count": null,
   "metadata": {},
   "outputs": [],
   "source": [
    "from typing import Dict\n",
    "\n",
    "import numpy as np\n",
    "import pandas as pd\n",
    "from pulp import LpProblem, LpMaximize, LpVariable, lpSum"
   ]
  },
  {
   "cell_type": "code",
   "execution_count": null,
   "metadata": {},
   "outputs": [],
   "source": [
    "path = r\"food_manufacture_1.xlsx\"\n",
    "dfs = pd.read_excel(path, sheet_name=None, index_col=0)"
   ]
  },
  {
   "cell_type": "markdown",
   "metadata": {},
   "source": [
    "## 集合の読み込み"
   ]
  },
  {
   "cell_type": "code",
   "execution_count": null,
   "metadata": {},
   "outputs": [],
   "source": [
    "sets = {k: list(row[~row.isnull()]) for k, row in dfs[\"sets\"].iterrows()}\n",
    "oils = sets[\"oils\"]\n",
    "time_periods = sets[\"time_periods\"]\n",
    "refine_lines = sets[\"refine_lines\"]"
   ]
  },
  {
   "cell_type": "markdown",
   "metadata": {},
   "source": [
    "## パラメータの読み込み"
   ]
  },
  {
   "cell_type": "code",
   "execution_count": null,
   "metadata": {},
   "outputs": [],
   "source": [
    "hardness = dfs[\"hardness\"].to_dict()[\"Value\"]\n",
    "refine_line = dfs[\"refine_line\"].to_dict()[\"Value\"]\n",
    "prod_ub = dfs[\"prod_ub\"].to_dict()[\"Value\"]\n",
    "buy_uc = dfs[\"buy_uc\"].to_dict(orient=\"index\")\n",
    "sell_uc = 150\n",
    "stock_uc = 5\n",
    "stock_ub = 1000\n",
    "stock_init = 500\n",
    "stock_final = 500\n",
    "hardness_ub = 6\n",
    "hardness_lb = 3"
   ]
  },
  {
   "cell_type": "markdown",
   "metadata": {},
   "source": [
    "## モデリング"
   ]
  },
  {
   "cell_type": "markdown",
   "metadata": {},
   "source": [
    "### 変数"
   ]
  },
  {
   "cell_type": "code",
   "execution_count": null,
   "metadata": {},
   "outputs": [],
   "source": [
    "buy_amount = LpVariable.dicts(\"buy_amount\", (oils, time_periods), lowBound=0, upBound=None, cat=\"Continuous\")\n",
    "use_amount = LpVariable.dicts(\"use_amount\", (oils, time_periods), lowBound=0, upBound=None, cat=\"Continuous\")\n",
    "sell_amount = LpVariable.dicts(\"sell_amount\", time_periods, lowBound=0, upBound=None, cat=\"Continuous\")\n",
    "opening_stock_amount = LpVariable.dicts(\"opening_stock_amount\", (oils, time_periods), lowBound=0, upBound=None, cat=\"Continuous\")\n",
    "closing_stock_amount = LpVariable.dicts(\"closing_stock_amount\", (oils, time_periods), lowBound=0, upBound=None, cat=\"Continuous\")"
   ]
  },
  {
   "cell_type": "markdown",
   "metadata": {},
   "source": [
    "### 目的関数"
   ]
  },
  {
   "cell_type": "code",
   "execution_count": null,
   "metadata": {},
   "outputs": [],
   "source": [
    "sales = [sell_amount[t] * sell_uc for t in time_periods]\n",
    "buy_cost = [buy_amount[oil][t] * buy_uc[oil][t] for t in time_periods for oil in oils]\n",
    "stock_cost = [closing_stock_amount[oil][t] * stock_uc for t in time_periods for oil in oils]"
   ]
  },
  {
   "cell_type": "code",
   "execution_count": null,
   "metadata": {},
   "outputs": [],
   "source": [
    "{k: v.value() for k, v in sell_amount.items()}"
   ]
  },
  {
   "cell_type": "code",
   "execution_count": null,
   "metadata": {},
   "outputs": [],
   "source": [
    "total_sales = lpSum(sales)\n",
    "total_buy_cost = lpSum(buy_cost)\n",
    "total_stock_cost = lpSum(stock_cost)\n",
    "total_cost = total_buy_cost + total_stock_cost\n",
    "total_profit = total_sales - total_cost"
   ]
  },
  {
   "cell_type": "code",
   "execution_count": null,
   "metadata": {},
   "outputs": [],
   "source": [
    "model = LpProblem(\"Food manufacture 1\", LpMaximize)\n",
    "model.setObjective(total_profit)"
   ]
  },
  {
   "cell_type": "markdown",
   "metadata": {},
   "source": [
    "### 制約条件"
   ]
  },
  {
   "cell_type": "code",
   "execution_count": null,
   "metadata": {},
   "outputs": [],
   "source": [
    "# 期初在庫、期末在庫\n",
    "t_init = time_periods[0]\n",
    "t_final = time_periods[-1]\n",
    "for oil in oils:\n",
    "    model += opening_stock_amount[oil][t_init] == stock_init\n",
    "    model += closing_stock_amount[oil][t_final] == stock_final"
   ]
  },
  {
   "cell_type": "code",
   "execution_count": null,
   "metadata": {},
   "outputs": [],
   "source": [
    "# 倉庫バランス\n",
    "for i, t in enumerate(time_periods):\n",
    "    for oil in oils:\n",
    "        if i > 0:\n",
    "            t_prev = time_periods[i - 1]\n",
    "            model += opening_stock_amount[oil][t] == closing_stock_amount[oil][t_prev]\n",
    "        model += closing_stock_amount[oil][t] == opening_stock_amount[oil][t] + buy_amount[oil][t] - use_amount[oil][t]"
   ]
  },
  {
   "cell_type": "code",
   "execution_count": null,
   "metadata": {},
   "outputs": [],
   "source": [
    "# 倉庫上限\n",
    "for t in time_periods:\n",
    "    for oil in oils:\n",
    "        model += closing_stock_amount[oil][t] <= stock_ub"
   ]
  },
  {
   "cell_type": "code",
   "execution_count": null,
   "metadata": {},
   "outputs": [],
   "source": [
    "# 販売量バランス\n",
    "for t in time_periods:\n",
    "    model += sell_amount[t] == lpSum(use_amount[oil][t] for oil in oils)"
   ]
  },
  {
   "cell_type": "code",
   "execution_count": null,
   "metadata": {},
   "outputs": [],
   "source": [
    "# 生産ライン別製錬量上限\n",
    "for line in refine_lines:\n",
    "    used_oils = [oil for oil in oils if refine_line[oil] == line]\n",
    "    for t in time_periods:\n",
    "        total_prod_amount = lpSum(use_amount[oil][t] for oil in used_oils)\n",
    "        model += total_prod_amount <= prod_ub[line]"
   ]
  },
  {
   "cell_type": "code",
   "execution_count": null,
   "metadata": {},
   "outputs": [],
   "source": [
    "# 硬度、生産ライン別上限\n",
    "for t in time_periods:\n",
    "    total_hardness = lpSum(hardness[oil] * use_amount[oil][t] for oil in oils)\n",
    "    model += total_hardness <= hardness_ub * sell_amount[t]\n",
    "    model += total_hardness >= hardness_lb * sell_amount[t]"
   ]
  },
  {
   "cell_type": "code",
   "execution_count": null,
   "metadata": {},
   "outputs": [],
   "source": [
    "model.solve()"
   ]
  },
  {
   "cell_type": "code",
   "execution_count": null,
   "metadata": {},
   "outputs": [],
   "source": [
    "model.objective.value()"
   ]
  },
  {
   "cell_type": "code",
   "execution_count": null,
   "metadata": {},
   "outputs": [],
   "source": [
    "result = {oil: {t: use_amount[oil][t].value() for t in time_periods} for oil in oils}\n",
    "pd.DataFrame(result)"
   ]
  },
  {
   "cell_type": "code",
   "execution_count": null,
   "metadata": {},
   "outputs": [],
   "source": [
    "result = {oil: {t: buy_amount[oil][t].value() for t in time_periods} for oil in oils}\n",
    "pd.DataFrame(result)"
   ]
  },
  {
   "cell_type": "code",
   "execution_count": null,
   "metadata": {},
   "outputs": [],
   "source": [
    "result = {oil: {t: opening_stock_amount[oil][t].value() for t in time_periods} for oil in oils}\n",
    "pd.DataFrame(result)"
   ]
  },
  {
   "cell_type": "code",
   "execution_count": null,
   "metadata": {},
   "outputs": [],
   "source": [
    "result = {oil: {t: closing_stock_amount[oil][t].value() for t in time_periods} for oil in oils}\n",
    "pd.DataFrame(result)"
   ]
  },
  {
   "cell_type": "code",
   "execution_count": null,
   "metadata": {},
   "outputs": [],
   "source": []
  }
 ],
 "metadata": {
  "kernelspec": {
   "display_name": "mathopt",
   "language": "python",
   "name": "mathopt"
  },
  "language_info": {
   "codemirror_mode": {
    "name": "ipython",
    "version": 3
   },
   "file_extension": ".py",
   "mimetype": "text/x-python",
   "name": "python",
   "nbconvert_exporter": "python",
   "pygments_lexer": "ipython3",
   "version": "3.7.6"
  }
 },
 "nbformat": 4,
 "nbformat_minor": 4
}
